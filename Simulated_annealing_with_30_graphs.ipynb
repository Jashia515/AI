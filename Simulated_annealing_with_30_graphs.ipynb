{
  "nbformat": 4,
  "nbformat_minor": 0,
  "metadata": {
    "colab": {
      "provenance": []
    },
    "kernelspec": {
      "name": "python3",
      "display_name": "Python 3"
    },
    "language_info": {
      "name": "python"
    }
  },
  "cells": [
    {
      "cell_type": "code",
      "source": [
        "#@title Running your SA code on a graph G containing 50 nodes and average connectivity of 3 (connectivity parameter of 0.06). Using the VALUE function we work out the weighted flow value wf across the entire graph G and compare t with the total flow value tf_opt returned by the Edmonds Karp algorithm and resent both values, tf and tf_opt.\n",
        "\n",
        "\n"
      ],
      "metadata": {
        "id": "Qcn3GwPtFC75"
      },
      "execution_count": 3,
      "outputs": []
    },
    {
      "cell_type": "code",
      "source": [
        "import networkx as nx\n",
        "import math\n",
        "import random\n",
        "from networkx.algorithms.flow import edmonds_karp"
      ],
      "metadata": {
        "id": "IgnOS_KRfJq8"
      },
      "execution_count": null,
      "outputs": []
    },
    {
      "cell_type": "code",
      "source": [
        "seed=1000           # seed the graph for reproducibility, you should be doing this  \n",
        "G= nx.gnp_random_graph (50, .06 )       # here we create a random binomial graph with 1000 nodes and an average (expected) connectivity of 10*.3= 3.\n",
        "for (u, v) in G.edges():\n",
        "  x=random.randint(6000,12000)\n",
        "  G.edges[u,v]['capacity'] = x  # assign random weights to edges\n",
        "  y=random.randint(4000,x)\n",
        "  G.edges[u,v]['flow'] = y  \n",
        "\n",
        "def get_source_v1(G):\n",
        "  lt=[]\n",
        "  n1,n2=random.randint(0,49),random.randint(0,49)\n",
        "  for path in nx.all_simple_paths(G, source=n1, target=n2):\n",
        "    return path,n1,n2                                                                                                                                                                                                                                                                                                                                                                             "
      ],
      "metadata": {
        "id": "wwVQ8sYHsAL5"
      },
      "execution_count": null,
      "outputs": []
    },
    {
      "cell_type": "code",
      "source": [
        "t=450000\n",
        "p1,s,t1=get_source_v1(G) #getting paths\n",
        "path=get_path(p1)\n",
        "v1=[-3000,3000]\n",
        "edge_labels = nx.get_edge_attributes(G, 'capacity')\n",
        "for k in range(1,12000):\n",
        "  gt= G.copy()\n",
        "  if t==0:\n",
        "    break\n",
        "  else:\n",
        "    t=1*t/math.log(1+k) # Time Scheduling \n",
        "    if t==0:\n",
        "      break\n",
        "    for j in path:\n",
        "      f,edg=get_flow(gt,j[0], j[1])\n",
        "      f1=random.randint(-3000,3000)\n",
        "      f=f+f1  #increasing the flow of the edge \n",
        "      #checking constraints to change the flows of the graph\n",
        "      if f>4000 and f<=edge_labels[edg] and law_of_conservation(gt,j[1])==0:\n",
        "        \n",
        "        gt.add_edges_from([(edg[0], edg[1], {'flow':f }),(edg[0], edg[1],{'capacity':edge_labels[ edg ]})])\n",
        "        \n",
        "  \n",
        "    de=value(G)-value(gt) #getting the delta\n",
        "    if de>=0:\n",
        "      G=gt\n",
        "    else:\n",
        "      prb,rand_num, acc_region= get_probability(de,t)\n",
        "  \n",
        "      if rand_num in acc_region: # accepting the worst solution with the probability p\n",
        "        G=gt\n",
        "\n",
        "print(\" Graph value-------------------------------------------------\",value(G))\n",
        "print(\" Graph value-------------------------------------------------\",edmonds_karp_alg(G,s,t1))"
      ],
      "metadata": {
        "colab": {
          "base_uri": "https://localhost:8080/"
        },
        "id": "3dV6GJC34JQp",
        "outputId": "9bb99ce5-4a02-4ee3-ba2f-7876aa23da96"
      },
      "execution_count": null,
      "outputs": [
        {
          "output_type": "stream",
          "name": "stdout",
          "text": [
            " Graph value------------------------------------------------- 44535\n",
            " Graph value------------------------------------------------- 42897\n"
          ]
        }
      ]
    },
    {
      "cell_type": "code",
      "source": [
        "#@title Running 4 SA code with 30 different graphs G (having 50 nodes and an average connectivity of 3). Working out the average value of the total flow into sink node t and presenting the total flow tf_avg(3). \t\t\n"
      ],
      "metadata": {
        "id": "A4JlSpbqFi_1"
      },
      "execution_count": 1,
      "outputs": []
    },
    {
      "cell_type": "code",
      "source": [
        "lt=[]\n",
        "for i in range(0,30):\n",
        "  seed=1000           # seed the graph for reproducibility, you should be doing this  \n",
        "  G= nx.gnp_random_graph (50, .03 )       # here we create a random binomial graph with 1000 nodes and an average (expected) connectivity of 10*.3= 3.\n",
        "  #print ( G.nodes())\n",
        "  #print(G.size())\n",
        "  for (u, v) in G.edges():\n",
        "    x=random.randint(6000,12000)\n",
        "    G.edges[u,v]['capacity'] = x  # assign random weights to edges\n",
        "    y=random.randint(4000,x)\n",
        "    G.edges[u,v]['flow'] = y \n",
        "\n",
        "  t=45000\n",
        "  p1,s,t1=get_source(G) #getting paths\n",
        "  path=get_path(p1)\n",
        "  v1=[-3000,3000]\n",
        "  edge_labels = nx.get_edge_attributes(G, 'capacity')\n",
        "  for k in range(1,12000):\n",
        "    gt= G.copy()\n",
        "    if t==0:\n",
        "      break\n",
        "    else:\n",
        "      t=1*t/math.log(1+k) # Temperature Scheduling\n",
        "      if t==0:\n",
        "        break\n",
        "      #graph_plt(gt)\n",
        "      for j in path:\n",
        "        f,edg=get_flow(gt,j[0], j[1])\n",
        "        f1=random.randint(-3000,3000)\n",
        "        f=f+f1\n",
        "        #print(edg,f,edge_labels[edg],law_of_conservation(gt,s,t,j[1]))\n",
        "        if f>4000 and f<=edge_labels[edg] and law_of_conservation(gt,j[1])==0:\n",
        "          # checking contraints to get the change the flow of the graph\n",
        "         \n",
        "          gt.add_edges_from([(edg[0], edg[1], {'flow':f }),(edg[0], edg[1],{'capacity':edge_labels[ edg ]})])\n",
        "      \n",
        "      de=value(G)-value(gt)\n",
        "      \n",
        "      if de>=0: #getting delta\n",
        "        G=gt\n",
        "      else:\n",
        "        prb,rand_num, acc_region= get_probability(de,t)\n",
        "        if rand_num in acc_region: # accepting the worst solution with the probability p\n",
        "          G=gt\n",
        "\n",
        "  print(i+1,\" Graph value-------------------------------------------------\",value(G))\n",
        "  lt.append(value(G))\n",
        "\n",
        "  \n",
        "    \n",
        "\n",
        "\n",
        "\n",
        "\n",
        "                                                                                                                                                                                                                                                                                                                                                                                              "
      ],
      "metadata": {
        "id": "7kIXGAsq4aRh",
        "colab": {
          "base_uri": "https://localhost:8080/"
        },
        "outputId": "28703603-4bb7-487c-b0e3-ec189dd9c145"
      },
      "execution_count": null,
      "outputs": [
        {
          "output_type": "stream",
          "name": "stdout",
          "text": [
            "1  Graph value------------------------------------------------- 47722\n",
            "2  Graph value------------------------------------------------- 37760\n",
            "3  Graph value------------------------------------------------- 8033\n",
            "4  Graph value------------------------------------------------- 8647\n",
            "5  Graph value------------------------------------------------- 32025\n",
            "6  Graph value------------------------------------------------- 12425\n",
            "7  Graph value------------------------------------------------- 15419\n",
            "8  Graph value------------------------------------------------- 4359\n",
            "9  Graph value------------------------------------------------- 45043\n",
            "10  Graph value------------------------------------------------- 8094\n",
            "11  Graph value------------------------------------------------- 28102\n",
            "12  Graph value------------------------------------------------- 64838\n",
            "13  Graph value------------------------------------------------- 27278\n",
            "14  Graph value------------------------------------------------- 22692\n",
            "15  Graph value------------------------------------------------- 15680\n",
            "16  Graph value------------------------------------------------- 22976\n",
            "17  Graph value------------------------------------------------- 60023\n",
            "18  Graph value------------------------------------------------- 22850\n",
            "19  Graph value------------------------------------------------- 20621\n",
            "20  Graph value------------------------------------------------- 20764\n",
            "21  Graph value------------------------------------------------- 9075\n",
            "22  Graph value------------------------------------------------- 46451\n",
            "23  Graph value------------------------------------------------- 53073\n",
            "24  Graph value------------------------------------------------- 43644\n",
            "25  Graph value------------------------------------------------- 36947\n",
            "26  Graph value------------------------------------------------- 34517\n",
            "27  Graph value------------------------------------------------- 27953\n",
            "28  Graph value------------------------------------------------- 33379\n",
            "29  Graph value------------------------------------------------- 9999\n",
            "30  Graph value------------------------------------------------- 20234\n"
          ]
        }
      ]
    },
    {
      "cell_type": "code",
      "source": [
        "print(\" The average flow tf_av(3) with 50 nodes is \",sum(lt)/30)"
      ],
      "metadata": {
        "colab": {
          "base_uri": "https://localhost:8080/"
        },
        "id": "vI2rFBFGjcFr",
        "outputId": "cdd14a53-487b-404e-f2d5-a8e0bffa4f62"
      },
      "execution_count": null,
      "outputs": [
        {
          "output_type": "stream",
          "name": "stdout",
          "text": [
            " The average flow tf_av(3) with 50 nodes is  28020.766666666666\n"
          ]
        }
      ]
    },
    {
      "cell_type": "code",
      "source": [
        "#@title Now re-run your SA code on 30 different graphs of 50 nodes but an average connectivity of 2. Compute and present the average flow tf_av(2). "
      ],
      "metadata": {
        "cellView": "form",
        "id": "nGa2P0KyFyWv"
      },
      "execution_count": null,
      "outputs": []
    },
    {
      "cell_type": "code",
      "source": [
        "lt=[]\n",
        "for i in range(0,30):\n",
        "  seed=1000           # seed the graph for reproducibility, you should be doing this  \n",
        "  G= nx.gnp_random_graph (50, .02 )       # here we create a random binomial graph with 1000 nodes and an average (expected) connectivity of 10*.3= 3.\n",
        "  \n",
        "  for (u, v) in G.edges():\n",
        "    x=random.randint(6000,12000)\n",
        "    G.edges[u,v]['capacity'] = x  # assign random weights to edges\n",
        "    y=random.randint(4000,x)\n",
        "    G.edges[u,v]['flow'] = y \n",
        "\n",
        "  t=45000\n",
        "  p1,s,t1=get_source(G) #getting paths\n",
        "  path=get_path(p1)\n",
        "  v1=[-3000,3000]\n",
        "  edge_labels = nx.get_edge_attributes(G, 'capacity')\n",
        "  for k in range(1,12000):\n",
        "    gt= G.copy()\n",
        "    if t==0:\n",
        "      break\n",
        "    else:\n",
        "      t=1*t/math.log(1+k) # temperature Scheduling\n",
        "      if t==0:\n",
        "        break\n",
        "      for j in path:\n",
        "        f,edg=get_flow(gt,j[0], j[1])\n",
        "        f1=random.randint(-3000,3000)\n",
        "        f=f+f1\n",
        "        #print(edg,f,edge_labels[edg],law_of_conservation(gt,s,t,j[1]))\n",
        "        if f>=4000 and f<=edge_labels[edg] and law_of_conservation(gt,j[1])==0:\n",
        "          #Checking the constraints to change the flow of the graph\n",
        "         \n",
        "          gt.add_edges_from([(edg[0], edg[1], {'flow':f }),(edg[0], edg[1],{'capacity':edge_labels[ edg ]})])\n",
        "    \n",
        "      de=value(G)-value(gt) #getting delta\n",
        "     \n",
        "      if de>=0:\n",
        "        G=gt\n",
        "      else:\n",
        "        prb,rand_num, acc_region= get_probability(de,t)\n",
        "        if rand_num in acc_region: #accepting worst solution with probability p\n",
        "          G=gt\n",
        "\n",
        "  print(i+1,\" Graph value-------------------------------------------------\",value(G))\n",
        "  lt.append(value(G))\n",
        "\n",
        "  \n",
        "    \n",
        "\n",
        "\n",
        "\n",
        "\n",
        "                                                                                                                                                                                                                                                                                                                                                                                              "
      ],
      "metadata": {
        "colab": {
          "base_uri": "https://localhost:8080/"
        },
        "id": "6aU5Nw-f-rDa",
        "outputId": "d1d70417-0370-4396-f3d3-d16d37ce3cac"
      },
      "execution_count": null,
      "outputs": [
        {
          "output_type": "stream",
          "name": "stdout",
          "text": [
            "1  Graph value------------------------------------------------- 18199\n",
            "2  Graph value------------------------------------------------- 17250\n",
            "3  Graph value------------------------------------------------- 6073\n",
            "4  Graph value------------------------------------------------- 13038\n",
            "5  Graph value------------------------------------------------- 4003\n",
            "6  Graph value------------------------------------------------- 8032\n",
            "7  Graph value------------------------------------------------- 46408\n",
            "8  Graph value------------------------------------------------- 7804\n",
            "9  Graph value------------------------------------------------- 10623\n",
            "10  Graph value------------------------------------------------- 12641\n",
            "11  Graph value------------------------------------------------- 4006\n",
            "12  Graph value------------------------------------------------- 36295\n",
            "13  Graph value------------------------------------------------- 4001\n",
            "14  Graph value------------------------------------------------- 4000\n",
            "15  Graph value------------------------------------------------- 27552\n",
            "16  Graph value------------------------------------------------- 15502\n",
            "17  Graph value------------------------------------------------- 23591\n",
            "18  Graph value------------------------------------------------- 29754\n",
            "19  Graph value------------------------------------------------- 8015\n",
            "20  Graph value------------------------------------------------- 19054\n",
            "21  Graph value------------------------------------------------- 4000\n",
            "22  Graph value------------------------------------------------- 20101\n",
            "23  Graph value------------------------------------------------- 9453\n",
            "24  Graph value------------------------------------------------- 4002\n",
            "25  Graph value------------------------------------------------- 8014\n",
            "26  Graph value------------------------------------------------- 12759\n",
            "27  Graph value------------------------------------------------- 4001\n",
            "28  Graph value------------------------------------------------- 4002\n",
            "29  Graph value------------------------------------------------- 12144\n",
            "30  Graph value------------------------------------------------- 15059\n"
          ]
        }
      ]
    },
    {
      "cell_type": "code",
      "source": [
        "print(\" The average flow tf_av(2) with 50 nodes is \",sum(lt)/30)"
      ],
      "metadata": {
        "colab": {
          "base_uri": "https://localhost:8080/"
        },
        "id": "pbjs9esv-ywG",
        "outputId": "da7a990f-d3f9-4868-b0e0-6109b345e18e"
      },
      "execution_count": null,
      "outputs": [
        {
          "output_type": "stream",
          "name": "stdout",
          "text": [
            " The average flow tf_av(2) with 50 nodes is  13645.866666666667\n"
          ]
        }
      ]
    },
    {
      "cell_type": "code",
      "source": [
        "#@title Supporting Modules\n"
      ],
      "metadata": {
        "cellView": "form",
        "id": "JV-Qq4PbF_MF"
      },
      "execution_count": null,
      "outputs": []
    },
    {
      "cell_type": "code",
      "source": [
        "def get_source(G):\n",
        "  lt=[]\n",
        "  n1,n2=random.randint(0,49),random.randint(0,49)\n",
        "  for path in nx.all_simple_paths(G, source=n1, target=n2):\n",
        "    lt.append(path)\n",
        "  if len(lt)==0:\n",
        "   return get_source(G)\n",
        "  else:\n",
        "    return lt[0],n1,n2"
      ],
      "metadata": {
        "id": "MxIU6R82fezq"
      },
      "execution_count": null,
      "outputs": []
    },
    {
      "cell_type": "code",
      "source": [
        "#creating the edges path from the shortest path i,e shortest path=[s,u,v,t] path_create=[(s,u),(u,v),(v,t)]\n",
        "def get_path(p):\n",
        "  lt2=[]\n",
        "  for x in range(0,len(p)-1):\n",
        "      lt2.append((p[x],p[x+1]))\n",
        "  return lt2"
      ],
      "metadata": {
        "id": "_YOZnEc_DNPw"
      },
      "execution_count": null,
      "outputs": []
    },
    {
      "cell_type": "code",
      "source": [
        "def edmonds_karp_alg(G,s,t):\n",
        "  \"\"\"\n",
        "  uses the edmonds Karp algorithm for finding the maximum flow\n",
        "  takes Graph G\n",
        "  \"\"\"\n",
        "  R = edmonds_karp(G, s, t)\n",
        "  flow_value = nx.maximum_flow_value(G, s, t)\n",
        "  return flow_value"
      ],
      "metadata": {
        "id": "COy47uaYEX8V"
      },
      "execution_count": null,
      "outputs": []
    },
    {
      "cell_type": "code",
      "source": [
        "def get_flow(G,n1,n2):\n",
        "  \"\"\"\n",
        "  takes Graph G and gets flow from n1 to n2\n",
        "  \"\"\"\n",
        "  edge_labels = nx.get_edge_attributes(G, 'flow')\n",
        "  if (n1,n2) in edge_labels.keys():\n",
        "    return edge_labels[(n1,n2)],(n1,n2)\n",
        "  elif (n2,n1) in edge_labels.keys():\n",
        "    return edge_labels[(n2,n1)],(n2,n1)\n",
        "\n"
      ],
      "metadata": {
        "id": "L_0ucUTTWKCe"
      },
      "execution_count": null,
      "outputs": []
    },
    {
      "cell_type": "code",
      "source": [
        "def law_of_conservation(G,n1):\n",
        "  \"\"\"\n",
        "  implementing law of conservation for the node n1\n",
        "  \"\"\"\n",
        "  edge_labels = nx.get_edge_attributes(G, 'flow')\n",
        "  ip,op=0,0\n",
        "  for i in edge_labels.keys():\n",
        "    if n1 == i[1]: #getting all the output flows\n",
        "        op+=edge_labels[i]\n",
        "    elif n1 ==i[0]: #getting all the input flows\n",
        "      ip+=edge_labels[i]\n",
        "  \n",
        "  if ip==op: # checking law of conservation\n",
        "    return 0\n",
        "  elif ip==0 or op==0: # if the node is a source or target\n",
        "    return 0\n",
        "  else: # if the condition fails returns 1\n",
        "    return 1"
      ],
      "metadata": {
        "id": "T8gZ3wUp4dQ7"
      },
      "execution_count": null,
      "outputs": []
    },
    {
      "cell_type": "code",
      "source": [
        "def value(G):\n",
        "  \"\"\"\n",
        "  Gets the total flow in the Graph\n",
        "  \"\"\"\n",
        "  edge_labels = nx.get_edge_attributes(G, 'flow')\n",
        "  fl,fl1=0,0\n",
        "  for i in path:\n",
        "    fl,nodes=get_flow(G,i[0],i[1])\n",
        "    fl1+=fl\n",
        "  return fl1"
      ],
      "metadata": {
        "id": "P8QUCy6O-Cka"
      },
      "execution_count": null,
      "outputs": []
    },
    {
      "cell_type": "code",
      "source": [
        "def get_probability(de,t):\n",
        "  \"\"\"\n",
        "  getting the probability of acceptance\n",
        "  parameters:\n",
        "  de = delta\n",
        "  t = temperature\n",
        "\n",
        "  returns:\n",
        "   probability e^(delta/t)\n",
        "   acceptance region\n",
        "   random number \n",
        "  \"\"\"\n",
        "  v=round(math.exp((de/t)),4)\n",
        "  e=pow(10,int(str(v)[::-1].find('.')))\n",
        "  x=int(v*e)\n",
        "  if x!=0:\n",
        "    rand_num=random.randint(1,x)\n",
        "  else:\n",
        "    rand_num=[1]\n",
        "  rg=list(range(1,x))\n",
        "  return v,rand_num,rg"
      ],
      "metadata": {
        "id": "MeH5YZvU9tvR"
      },
      "execution_count": null,
      "outputs": []
    },
    {
      "cell_type": "code",
      "source": [],
      "metadata": {
        "id": "LfLmbU4nJrYt"
      },
      "execution_count": null,
      "outputs": []
    }
  ]
}